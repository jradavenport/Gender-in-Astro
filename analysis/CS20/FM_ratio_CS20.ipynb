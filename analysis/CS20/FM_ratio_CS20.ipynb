{
 "cells": [
  {
   "cell_type": "code",
   "execution_count": 1,
   "metadata": {
    "collapsed": true
   },
   "outputs": [
    {
     "name": "stdout",
     "output_type": "stream",
     "text": [
      "['Epoch', 'Time', 'Talk', 'Chair Gender', 'Speaker Gender', 'Questions', 'Splinter', 'Session type', 'speaker type', 'Comments']\n"
     ]
    }
   ],
   "source": [
    "%matplotlib inline\n",
    "import warnings\n",
    "warnings.filterwarnings(\"ignore\")"
   ]
  },
  {
   "cell_type": "code",
   "execution_count": 2,
   "metadata": {
    "collapsed": true
   },
   "outputs": [
    {
     "name": "stdout",
     "output_type": "stream",
     "text": [
      "['Epoch', 'Time', 'Talk', 'Chair Gender', 'Speaker Gender', 'Questions', 'Splinter', 'Session type', 'speaker type', 'Comments']\n"
     ]
    }
   ],
   "source": [
    "\n",
    "import pandas\n",
    "import numpy as np\n",
    "from astropy.stats import funcs\n",
    "import matplotlib.pyplot as plt\n",
    "import seaborn as sns\n",
    "sns.set()"
   ]
  },
  {
   "cell_type": "code",
   "execution_count": 3,
   "metadata": {
    "collapsed": true
   },
   "outputs": [
    {
     "name": "stdout",
     "output_type": "stream",
     "text": [
      "['Epoch', 'Time', 'Talk', 'Chair Gender', 'Speaker Gender', 'Questions', 'Splinter', 'Session type', 'speaker type', 'Comments']\n"
     ]
    }
   ],
   "source": [
    "\n",
    "df = pandas.read_csv(\"Gender-in-Astro/data/cs20/data_cleaned.csv\", dtype=str)\n",
    "print df.columns.tolist()"
   ]
  },
  {
   "cell_type": "code",
   "execution_count": 4,
   "metadata": {},
   "outputs": [],
   "source": [
    "n_qs_max = max([len(q) if isinstance(q, str) else 0 for q in df.Questions])"
   ]
  },
  {
   "cell_type": "code",
   "execution_count": 5,
   "metadata": {},
   "outputs": [
    {
     "name": "stdout",
     "output_type": "stream",
     "text": [
      "Women asked 135 questions and men asked 314 questions.\nWomen asked 30.1% of the questions.\n"
     ]
    }
   ],
   "source": [
    "all_qs = \"\".join(np.asarray(df.Questions, dtype=str).flatten())\n",
    "all_qs = all_qs.replace(\"nan\", \"\")\n",
    "\n",
    "n_f_qs = all_qs.count(\"F\")\n",
    "n_m_qs = all_qs.count(\"M\")\n",
    "\n",
    "print \"Women asked {} questions and men asked {} questions.\".format(n_f_qs, n_m_qs)\n",
    "print \"Women asked {:.1f}% of the questions.\".format(float(n_f_qs) / (n_f_qs + n_m_qs) * 100.)"
   ]
  },
  {
   "cell_type": "code",
   "execution_count": null,
   "metadata": {},
   "outputs": [
    {
     "name": "stdout",
     "output_type": "stream",
     "text": [
      "[ 49.  81. 109. 124. 131. 132. 133.] \n[ 85. 176. 240. 270. 290. 302. 307.]\n"
     ]
    },
    {
     "data": {
      "text/plain": [
       "Text(0,0.5,'Fraction of Questions')"
      ]
     },
     "execution_count": 8,
     "metadata": {},
     "output_type": "execute_result"
    },
    {
     "data": {
      "image/png": "[encoded data removed]",
      "text/plain": [
       "<Figure size 864x504 with 1 Axes>"
      ]
     },
     "metadata": {},
     "output_type": "display_data"
    }
   ],
   "source": [
    "n_qs = 7\n",
    "counts_f, counts_m = np.zeros(n_qs, int), np.zeros(n_qs, int)\n",
    "for q in df.Questions:  # loop all rows\n",
    "    s = str(q)          # e.g. MFFMMF\n",
    "    \n",
    "    if s == \"nan\":      # no questions\n",
    "        continue\n",
    "    else:\n",
    "        for i in range(min(len(s), n_qs)):    # each char of str\n",
    "            if s[i] == \"F\":\n",
    "                counts_f[i] += 1    # female asked\n",
    "            elif s[i] == \"M\":\n",
    "                counts_m[i] += 1    # male asked\n",
    "\n",
    "cumulative_counts_f, cumulative_counts_m = np.zeros(n_qs, float), np.zeros(n_qs, float)\n",
    "for i in range(n_qs):\n",
    "    cumulative_counts_f[i] = sum(counts_f[:i+1])\n",
    "    cumulative_counts_m[i] = sum(counts_m[:i+1])\n",
    "\n",
    "print cumulative_counts_f, \"\\n\", cumulative_counts_m\n",
    "\n",
    "e = funcs.binom_conf_interval(cumulative_counts_f, cumulative_counts_m+cumulative_counts_f, interval='wald')\n",
    "x = range(1, n_qs+1)\n",
    "y = cumulative_counts_f/(cumulative_counts_f+cumulative_counts_m)\n",
    "# y2 = cumulative_counts_m/(cumulative_counts_m+cumulative_counts_f)\n",
    "# e2 = funcs.binom_conf_interval(cumulative_counts_m, cumulative_counts_m+cumulative_counts_f, interval='wald')\n",
    "\n",
    "plt.figure(figsize=(10, 6))\n",
    "plt.errorbar(x, y, yerr=np.abs(y-e), c='RoyalBlue', marker='o', ms=10, alpha=1, linestyle='none')\n",
    "# plt.errorbar(x, y2, yerr=np.abs(y2-e2), c='red', marker='o', ms=10, alpha=1, linestyle='none')\n",
    "\n",
    "n_s_f = float(sum(df[\"Speaker Gender\"] == \"F\"))\n",
    "n_s_m = float(sum(df[\"Speaker Gender\"] == \"M\"))\n",
    "\n",
    "plt.axhline(float(n_f_qs) / (n_f_qs + n_m_qs), alpha=0.6, ls=\"--\")\n",
    "plt.axhline(n_s_f/(n_s_m+n_s_f), alpha=0.6, ls=\"--\")\n",
    "plt.xlabel('Minimum # Questions')\n",
    "plt.ylabel('Fraction of Questions')\n",
    "\n",
    "# plt.plot(x, cumulative_counts_f, label=\"F\", lw=3)\n",
    "# plt.plot(x, cumulative_counts_m, label=\"M\", lw=3)\n",
    "# plt.legend()\n",
    "\n",
    "# plt.plot(x, counts_f)\n",
    "# plt.plot(x, counts_m)\n"
   ]
  },
  {
   "cell_type": "code",
   "execution_count": 7,
   "metadata": {},
   "outputs": [],
   "source": []
  },
  {
   "cell_type": "code",
   "execution_count": 7,
   "metadata": {},
   "outputs": [],
   "source": []
  }
 ],
 "metadata": {
  "kernelspec": {
   "display_name": "Python 2",
   "language": "python",
   "name": "python2"
  },
  "language_info": {
   "codemirror_mode": {
    "name": "ipython",
    "version": 2
   },
   "file_extension": ".py",
   "mimetype": "text/x-python",
   "name": "python",
   "nbconvert_exporter": "python",
   "pygments_lexer": "ipython2",
   "version": "2.7.6"
  }
 },
 "nbformat": 4,
 "nbformat_minor": 0
}
